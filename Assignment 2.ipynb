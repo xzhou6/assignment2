{
 "cells": [
  {
   "cell_type": "code",
   "execution_count": 12,
   "metadata": {
    "collapsed": true
   },
   "outputs": [],
   "source": [
    "import csv\n",
    "import numpy as np\n",
    "import pandas as pd\n",
    "import matplotlib.pyplot as plt\n",
    "from sklearn.model_selection import cross_val_score\n",
    "from sklearn.model_selection import train_test_split\n",
    "from sklearn.metrics import classification_report, roc_curve, auc, roc_auc_score, f1_score, accuracy_score\n",
    "from sklearn import metrics\n",
    "from sklearn.neural_network import MLPClassifier\n",
    "\n",
    "from sklearn.neural_network import MLPClassifier\n",
    "import timeit\n",
    "import time\n"
   ]
  },
  {
   "cell_type": "code",
   "execution_count": 13,
   "metadata": {},
   "outputs": [
    {
     "name": "stdout",
     "output_type": "stream",
     "text": [
      "<class 'pandas.core.frame.DataFrame'>\n",
      "RangeIndex: 4898 entries, 0 to 4897\n",
      "Data columns (total 12 columns):\n",
      "fixed acidity           4898 non-null float64\n",
      "volatile acidity        4898 non-null float64\n",
      "citric acid             4898 non-null float64\n",
      "residual sugar          4898 non-null float64\n",
      "chlorides               4898 non-null float64\n",
      "free sulfur dioxide     4898 non-null float64\n",
      "total sulfur dioxide    4898 non-null float64\n",
      "density                 4898 non-null float64\n",
      "pH                      4898 non-null float64\n",
      "sulphates               4898 non-null float64\n",
      "alcohol                 4898 non-null float64\n",
      "quality                 4898 non-null int64\n",
      "dtypes: float64(11), int64(1)\n",
      "memory usage: 459.3 KB\n"
     ]
    }
   ],
   "source": [
    "#wine quality data set\n",
    "data = pd.read_csv('winequality-white.csv',sep=';',quotechar='\"')\n",
    "data.info()"
   ]
  },
  {
   "cell_type": "code",
   "execution_count": 14,
   "metadata": {
    "collapsed": true
   },
   "outputs": [],
   "source": [
    "def isTasty(quality):\n",
    "    if quality >= 7:\n",
    "        return 1\n",
    "    else:\n",
    "        return 0"
   ]
  },
  {
   "cell_type": "code",
   "execution_count": 15,
   "metadata": {
    "collapsed": true
   },
   "outputs": [],
   "source": [
    "data['tasty'] = data['quality'].apply(isTasty)"
   ]
  },
  {
   "cell_type": "code",
   "execution_count": 16,
   "metadata": {},
   "outputs": [
    {
     "data": {
      "text/plain": [
       "0    3838\n",
       "1    1060\n",
       "Name: tasty, dtype: int64"
      ]
     },
     "execution_count": 16,
     "metadata": {},
     "output_type": "execute_result"
    }
   ],
   "source": [
    "data['tasty'].value_counts()"
   ]
  },
  {
   "cell_type": "code",
   "execution_count": 17,
   "metadata": {
    "collapsed": true
   },
   "outputs": [],
   "source": [
    "feature = data[['fixed acidity', 'volatile acidity', 'citric acid', 'residual sugar','chlorides', 'free sulfur dioxide', 'total sulfur dioxide', 'density', 'pH', 'sulphates', 'alcohol']]\n",
    "target = data['tasty']"
   ]
  },
  {
   "cell_type": "code",
   "execution_count": 18,
   "metadata": {},
   "outputs": [
    {
     "data": {
      "text/plain": [
       "array([[0, 0, 0, ..., 0, 1, 0]], dtype=int64)"
      ]
     },
     "execution_count": 18,
     "metadata": {},
     "output_type": "execute_result"
    }
   ],
   "source": [
    "X=feature.values\n",
    "Y=target.values\n",
    "np.reshape(Y,(1,-1))"
   ]
  },
  {
   "cell_type": "code",
   "execution_count": 19,
   "metadata": {},
   "outputs": [
    {
     "data": {
      "text/html": [
       "<div>\n",
       "<style>\n",
       "    .dataframe thead tr:only-child th {\n",
       "        text-align: right;\n",
       "    }\n",
       "\n",
       "    .dataframe thead th {\n",
       "        text-align: left;\n",
       "    }\n",
       "\n",
       "    .dataframe tbody tr th {\n",
       "        vertical-align: top;\n",
       "    }\n",
       "</style>\n",
       "<table border=\"1\" class=\"dataframe\">\n",
       "  <thead>\n",
       "    <tr style=\"text-align: right;\">\n",
       "      <th></th>\n",
       "      <th>fixed acidity</th>\n",
       "      <th>volatile acidity</th>\n",
       "      <th>citric acid</th>\n",
       "      <th>residual sugar</th>\n",
       "      <th>chlorides</th>\n",
       "      <th>free sulfur dioxide</th>\n",
       "      <th>total sulfur dioxide</th>\n",
       "      <th>density</th>\n",
       "      <th>pH</th>\n",
       "      <th>sulphates</th>\n",
       "      <th>alcohol</th>\n",
       "    </tr>\n",
       "  </thead>\n",
       "  <tbody>\n",
       "    <tr>\n",
       "      <th>count</th>\n",
       "      <td>4898.000000</td>\n",
       "      <td>4898.000000</td>\n",
       "      <td>4898.000000</td>\n",
       "      <td>4898.000000</td>\n",
       "      <td>4898.000000</td>\n",
       "      <td>4898.000000</td>\n",
       "      <td>4898.000000</td>\n",
       "      <td>4898.000000</td>\n",
       "      <td>4898.000000</td>\n",
       "      <td>4898.000000</td>\n",
       "      <td>4898.000000</td>\n",
       "    </tr>\n",
       "    <tr>\n",
       "      <th>mean</th>\n",
       "      <td>6.854788</td>\n",
       "      <td>0.278241</td>\n",
       "      <td>0.334192</td>\n",
       "      <td>6.391415</td>\n",
       "      <td>0.045772</td>\n",
       "      <td>35.308085</td>\n",
       "      <td>138.360657</td>\n",
       "      <td>0.994027</td>\n",
       "      <td>3.188267</td>\n",
       "      <td>0.489847</td>\n",
       "      <td>10.514267</td>\n",
       "    </tr>\n",
       "    <tr>\n",
       "      <th>std</th>\n",
       "      <td>0.843868</td>\n",
       "      <td>0.100795</td>\n",
       "      <td>0.121020</td>\n",
       "      <td>5.072058</td>\n",
       "      <td>0.021848</td>\n",
       "      <td>17.007137</td>\n",
       "      <td>42.498065</td>\n",
       "      <td>0.002991</td>\n",
       "      <td>0.151001</td>\n",
       "      <td>0.114126</td>\n",
       "      <td>1.230621</td>\n",
       "    </tr>\n",
       "    <tr>\n",
       "      <th>min</th>\n",
       "      <td>3.800000</td>\n",
       "      <td>0.080000</td>\n",
       "      <td>0.000000</td>\n",
       "      <td>0.600000</td>\n",
       "      <td>0.009000</td>\n",
       "      <td>2.000000</td>\n",
       "      <td>9.000000</td>\n",
       "      <td>0.987110</td>\n",
       "      <td>2.720000</td>\n",
       "      <td>0.220000</td>\n",
       "      <td>8.000000</td>\n",
       "    </tr>\n",
       "    <tr>\n",
       "      <th>25%</th>\n",
       "      <td>6.300000</td>\n",
       "      <td>0.210000</td>\n",
       "      <td>0.270000</td>\n",
       "      <td>1.700000</td>\n",
       "      <td>0.036000</td>\n",
       "      <td>23.000000</td>\n",
       "      <td>108.000000</td>\n",
       "      <td>0.991723</td>\n",
       "      <td>3.090000</td>\n",
       "      <td>0.410000</td>\n",
       "      <td>9.500000</td>\n",
       "    </tr>\n",
       "    <tr>\n",
       "      <th>50%</th>\n",
       "      <td>6.800000</td>\n",
       "      <td>0.260000</td>\n",
       "      <td>0.320000</td>\n",
       "      <td>5.200000</td>\n",
       "      <td>0.043000</td>\n",
       "      <td>34.000000</td>\n",
       "      <td>134.000000</td>\n",
       "      <td>0.993740</td>\n",
       "      <td>3.180000</td>\n",
       "      <td>0.470000</td>\n",
       "      <td>10.400000</td>\n",
       "    </tr>\n",
       "    <tr>\n",
       "      <th>75%</th>\n",
       "      <td>7.300000</td>\n",
       "      <td>0.320000</td>\n",
       "      <td>0.390000</td>\n",
       "      <td>9.900000</td>\n",
       "      <td>0.050000</td>\n",
       "      <td>46.000000</td>\n",
       "      <td>167.000000</td>\n",
       "      <td>0.996100</td>\n",
       "      <td>3.280000</td>\n",
       "      <td>0.550000</td>\n",
       "      <td>11.400000</td>\n",
       "    </tr>\n",
       "    <tr>\n",
       "      <th>max</th>\n",
       "      <td>14.200000</td>\n",
       "      <td>1.100000</td>\n",
       "      <td>1.660000</td>\n",
       "      <td>65.800000</td>\n",
       "      <td>0.346000</td>\n",
       "      <td>289.000000</td>\n",
       "      <td>440.000000</td>\n",
       "      <td>1.038980</td>\n",
       "      <td>3.820000</td>\n",
       "      <td>1.080000</td>\n",
       "      <td>14.200000</td>\n",
       "    </tr>\n",
       "  </tbody>\n",
       "</table>\n",
       "</div>"
      ],
      "text/plain": [
       "       fixed acidity  volatile acidity  citric acid  residual sugar  \\\n",
       "count    4898.000000       4898.000000  4898.000000     4898.000000   \n",
       "mean        6.854788          0.278241     0.334192        6.391415   \n",
       "std         0.843868          0.100795     0.121020        5.072058   \n",
       "min         3.800000          0.080000     0.000000        0.600000   \n",
       "25%         6.300000          0.210000     0.270000        1.700000   \n",
       "50%         6.800000          0.260000     0.320000        5.200000   \n",
       "75%         7.300000          0.320000     0.390000        9.900000   \n",
       "max        14.200000          1.100000     1.660000       65.800000   \n",
       "\n",
       "         chlorides  free sulfur dioxide  total sulfur dioxide      density  \\\n",
       "count  4898.000000          4898.000000           4898.000000  4898.000000   \n",
       "mean      0.045772            35.308085            138.360657     0.994027   \n",
       "std       0.021848            17.007137             42.498065     0.002991   \n",
       "min       0.009000             2.000000              9.000000     0.987110   \n",
       "25%       0.036000            23.000000            108.000000     0.991723   \n",
       "50%       0.043000            34.000000            134.000000     0.993740   \n",
       "75%       0.050000            46.000000            167.000000     0.996100   \n",
       "max       0.346000           289.000000            440.000000     1.038980   \n",
       "\n",
       "                pH    sulphates      alcohol  \n",
       "count  4898.000000  4898.000000  4898.000000  \n",
       "mean      3.188267     0.489847    10.514267  \n",
       "std       0.151001     0.114126     1.230621  \n",
       "min       2.720000     0.220000     8.000000  \n",
       "25%       3.090000     0.410000     9.500000  \n",
       "50%       3.180000     0.470000    10.400000  \n",
       "75%       3.280000     0.550000    11.400000  \n",
       "max       3.820000     1.080000    14.200000  "
      ]
     },
     "execution_count": 19,
     "metadata": {},
     "output_type": "execute_result"
    }
   ],
   "source": [
    "feature.describe()"
   ]
  },
  {
   "cell_type": "code",
   "execution_count": 20,
   "metadata": {},
   "outputs": [
    {
     "name": "stdout",
     "output_type": "stream",
     "text": [
      "Training set in wine quality classification model has 3673 samples.\n",
      "Testing set in wine quality classification model has 1225 samples.\n"
     ]
    }
   ],
   "source": [
    "# Split data into train and  test sets\n",
    "X_train, X_test, y_train, y_test = train_test_split(X, Y, test_size=0.25, random_state=0)\n",
    "print (\"Training set in wine quality classification model has {} samples.\".format(X_train.shape[0]))\n",
    "print (\"Testing set in wine quality classification model has {} samples.\".format(X_test.shape[0]))"
   ]
  },
  {
   "cell_type": "code",
   "execution_count": 21,
   "metadata": {
    "collapsed": true
   },
   "outputs": [],
   "source": [
    "import mlrose\n",
    "from sklearn.preprocessing import MinMaxScaler\n",
    "from sklearn.metrics import make_scorer\n",
    "#from sklearn.metrics import balanced_accuracy_score\n",
    "from sklearn.model_selection import GridSearchCV"
   ]
  },
  {
   "cell_type": "code",
   "execution_count": 22,
   "metadata": {
    "collapsed": true
   },
   "outputs": [],
   "source": [
    "# Feature scaling\n",
    "scaler = MinMaxScaler()\n",
    "X_train_scaled = scaler.fit_transform(X_train)\n",
    "X_test_scaled = scaler.transform(X_test)"
   ]
  },
  {
   "cell_type": "code",
   "execution_count": 21,
   "metadata": {},
   "outputs": [
    {
     "name": "stdout",
     "output_type": "stream",
     "text": [
      "Fitting 5 folds for each of 40 candidates, totalling 200 fits\n"
     ]
    },
    {
     "name": "stderr",
     "output_type": "stream",
     "text": [
      "[Parallel(n_jobs=-1)]: Using backend LokyBackend with 4 concurrent workers.\n",
      "[Parallel(n_jobs=-1)]: Done  42 tasks      | elapsed:  1.5min\n",
      "[Parallel(n_jobs=-1)]: Done 192 tasks      | elapsed:  5.5min\n",
      "[Parallel(n_jobs=-1)]: Done 200 out of 200 | elapsed:  5.6min finished\n"
     ]
    },
    {
     "name": "stdout",
     "output_type": "stream",
     "text": [
      "process time total:344.65 seconds\n"
     ]
    }
   ],
   "source": [
    "#Class MLPClassifier implements a multi-layer perceptron (MLP) algorithm that trains using Backpropagation.\n",
    "# This has been done in Assignment 1. Based on reviewer's comments, I further tried different activation function and hidden layer size.\n",
    "# Also, Multi-layer Perceptron is sensitive to feature scaling, so I did it.\n",
    "\n",
    "start_time=time.time()\n",
    "\n",
    "\n",
    "MLP = MLPClassifier(random_state=1)\n",
    "mlp_param_grid = {'hidden_layer_sizes' : [(20,),(40,),(60,),(80,)], \n",
    "                  'activation': ['relu', 'logistic'],\n",
    "                  'max_iter':[400,600,1000, 2000,3000]}\n",
    "\n",
    "gsMLP = GridSearchCV(MLP,param_grid = mlp_param_grid, cv=5, scoring='accuracy',n_jobs=-1,verbose=1)\n",
    "gsMLP.fit(X_train_scaled,y_train)\n",
    "MLP_best = gsMLP.best_estimator_\n",
    "\n",
    "#gsMLP.best_score_\n",
    "\n",
    "print(\"process time total:{:.2f} seconds\".format(time.time()-start_time))\n"
   ]
  },
  {
   "cell_type": "code",
   "execution_count": 22,
   "metadata": {},
   "outputs": [
    {
     "name": "stdout",
     "output_type": "stream",
     "text": [
      "best score: 0.825483256193847\n",
      "best param: {'activation': 'relu', 'hidden_layer_sizes': (60,), 'max_iter': 600}\n"
     ]
    }
   ],
   "source": [
    "print(\"best score: %s\" % gsMLP.best_score_)\n",
    "print(\"best param: %s\" % gsMLP.best_params_)"
   ]
  },
  {
   "cell_type": "code",
   "execution_count": 23,
   "metadata": {},
   "outputs": [
    {
     "name": "stdout",
     "output_type": "stream",
     "text": [
      "Model Training Time (s):   7.18351\n"
     ]
    }
   ],
   "source": [
    "#Re-run NN with the best parameters reported in Grid Search\n",
    "\n",
    "nn1 = MLPClassifier(max_iter=600,activation='relu',\n",
    "                    #solver='lbfgs',\n",
    "                    hidden_layer_sizes=[60,],random_state=1)\n",
    "\n",
    "# Training\n",
    "start_time = timeit.default_timer()\n",
    "nn1.fit(X_train_scaled, y_train)\n",
    "end_time = timeit.default_timer()\n",
    "training_time = end_time - start_time\n",
    "print(\"Model Training Time (s):   \"+\"{:.5f}\".format(training_time))"
   ]
  },
  {
   "cell_type": "code",
   "execution_count": 24,
   "metadata": {},
   "outputs": [
    {
     "name": "stdout",
     "output_type": "stream",
     "text": [
      "Accuracy score (test set, pruned): 0.811\n",
      "Accuracy score (train set, pruned): 0.833\n"
     ]
    }
   ],
   "source": [
    "# Predict labels for test set and assess accuracy\n",
    "y_test_pred_mlp = nn1.predict(X_test_scaled)\n",
    "y_test_accuracy_mlp = round(accuracy_score(y_test, y_test_pred_mlp),3)\n",
    "print('Accuracy score (test set, pruned):', y_test_accuracy_mlp)\n",
    "\n",
    "# Predict labels for train set and assess accuracy\n",
    "y_train_pred_mlp = nn1.predict(X_train_scaled)\n",
    "y_train_accuracy_mlp = round(accuracy_score(y_train, y_train_pred_mlp),3)\n",
    "print('Accuracy score (train set, pruned):',y_train_accuracy_mlp)"
   ]
  },
  {
   "cell_type": "code",
   "execution_count": 25,
   "metadata": {},
   "outputs": [
    {
     "name": "stdout",
     "output_type": "stream",
     "text": [
      "Model Training Time - NN1-RHC (s):   7.82816\n",
      "Accuracy score (test set, pruned): 0.76\n",
      "Accuracy score (train set, pruned): 0.769\n"
     ]
    }
   ],
   "source": [
    "# with the same parameters found in grid search -NN above, we re-run all three local random search algorithms.\n",
    "import mlrose\n",
    "nn1_rhc = mlrose.NeuralNetwork(hidden_nodes = [60], activation = 'relu', algorithm = 'random_hill_climb', \n",
    "                           bias = True,  is_classifier = True, \n",
    "                           #learning_rate=0.1, \n",
    "                           early_stopping=True, \n",
    "                           #clip_max=5, \n",
    "                           max_attempts =1000, max_iters=600)\n",
    "\n",
    "# Training\n",
    "start_time = timeit.default_timer()\n",
    "nn1_rhc.fit(X_train_scaled, y_train)\n",
    "end_time = timeit.default_timer()\n",
    "training_time = end_time - start_time\n",
    "print(\"Model Training Time - NN1-RHC (s):   \"+\"{:.5f}\".format(training_time))\n",
    "\n",
    "# Predict labels for test set and assess accuracy\n",
    "y_test_pred_nn1rhc = nn1_rhc.predict(X_test_scaled)\n",
    "y_test_accuracy_nn1rhc = round(accuracy_score(y_test, y_test_pred_nn1rhc),3)\n",
    "print('Accuracy score (test set, pruned):', y_test_accuracy_nn1rhc)\n",
    "\n",
    "# Predict labels for train set and assess accuracy\n",
    "y_train_pred_nn1rhc = nn1_rhc.predict(X_train_scaled)\n",
    "y_train_accuracy_nn1rhc = round(accuracy_score(y_train, y_train_pred_nn1rhc),3)\n",
    "print('Accuracy score (train set, pruned):',y_train_accuracy_nn1rhc)"
   ]
  },
  {
   "cell_type": "code",
   "execution_count": 26,
   "metadata": {},
   "outputs": [
    {
     "name": "stdout",
     "output_type": "stream",
     "text": [
      "Model Training Time - NN1-SA (s):   10.92105\n",
      "Accuracy score (test set, pruned): 0.718\n",
      "Accuracy score (train set, pruned): 0.716\n"
     ]
    }
   ],
   "source": [
    "nn1_sa = mlrose.NeuralNetwork(hidden_nodes = [60], activation = 'relu', algorithm = 'simulated_annealing', \n",
    "                           bias = True,  is_classifier = True, \n",
    "                           #learning_rate=0.1, \n",
    "                           early_stopping=True, \n",
    "                           #clip_max=5, \n",
    "                           max_attempts =1000, max_iters=600)\n",
    "\n",
    "# Training\n",
    "start_time = timeit.default_timer()\n",
    "nn1_sa.fit(X_train_scaled, y_train)\n",
    "end_time = timeit.default_timer()\n",
    "training_time = end_time - start_time\n",
    "print(\"Model Training Time - NN1-SA (s):   \"+\"{:.5f}\".format(training_time))\n",
    "\n",
    "# Predict labels for test set and assess accuracy\n",
    "y_test_pred_nn1sa = nn1_sa.predict(X_test_scaled)\n",
    "y_test_accuracy_nn1sa = round(accuracy_score(y_test, y_test_pred_nn1sa),3)\n",
    "print('Accuracy score (test set, pruned):', y_test_accuracy_nn1sa)\n",
    "\n",
    "# Predict labels for train set and assess accuracy\n",
    "y_train_pred_nn1sa = nn1_sa.predict(X_train_scaled)\n",
    "y_train_accuracy_nn1sa = round(accuracy_score(y_train, y_train_pred_nn1sa),3)\n",
    "print('Accuracy score (train set, pruned):',y_train_accuracy_nn1sa)"
   ]
  },
  {
   "cell_type": "code",
   "execution_count": 27,
   "metadata": {
    "collapsed": true
   },
   "outputs": [],
   "source": [
    "import warnings\n",
    "warnings.filterwarnings(\"ignore\")"
   ]
  },
  {
   "cell_type": "code",
   "execution_count": 28,
   "metadata": {},
   "outputs": [
    {
     "name": "stdout",
     "output_type": "stream",
     "text": [
      "Model Training Time - NN1-GA (s):   1088.74383\n",
      "Accuracy score (test set, pruned): 0.802\n",
      "Accuracy score (train set, pruned): 0.807\n"
     ]
    }
   ],
   "source": [
    "nn1_ga = mlrose.NeuralNetwork(hidden_nodes = [60], activation = 'relu', algorithm = 'genetic_alg', \n",
    "                           bias = True,  is_classifier = True, \n",
    "                           #learning_rate=0.1, \n",
    "                           early_stopping=True, \n",
    "                           #clip_max=5, \n",
    "                           max_attempts =1000, max_iters=600)\n",
    "\n",
    "# Training\n",
    "start_time = timeit.default_timer()\n",
    "nn1_ga.fit(X_train_scaled, y_train)\n",
    "end_time = timeit.default_timer()\n",
    "training_time = end_time - start_time\n",
    "print(\"Model Training Time - NN1-GA (s):   \"+\"{:.5f}\".format(training_time))\n",
    "\n",
    "# Predict labels for test set and assess accuracy\n",
    "y_test_pred_nn1ga = nn1_ga.predict(X_test_scaled)\n",
    "y_test_accuracy_nn1ga = round(accuracy_score(y_test, y_test_pred_nn1ga),3)\n",
    "print('Accuracy score (test set, pruned):', y_test_accuracy_nn1ga)\n",
    "\n",
    "# Predict labels for train set and assess accuracy\n",
    "y_train_pred_nn1ga = nn1_ga.predict(X_train_scaled)\n",
    "y_train_accuracy_nn1ga = round(accuracy_score(y_train, y_train_pred_nn1ga),3)\n",
    "print('Accuracy score (train set, pruned):',y_train_accuracy_nn1ga)"
   ]
  },
  {
   "cell_type": "code",
   "execution_count": 47,
   "metadata": {
    "collapsed": true
   },
   "outputs": [],
   "source": [
    "test_accuracy_rhc_list=[]\n",
    "#_train_accuracy_mlp_list=[]\n",
    "num_iteration_range=range(1,650,50)\n",
    "for max_iters in num_iteration_range:\n",
    "    nn1rhc = mlrose.NeuralNetwork(hidden_nodes = [60], activation = 'relu', algorithm = 'random_hill_climb', \n",
    "                           bias = True,  is_classifier = True, \n",
    "                           #learning_rate=0.1, \n",
    "                           early_stopping=True, \n",
    "                           #clip_max=5, \n",
    "                           max_attempts =1000, max_iters=max_iters)\n",
    "    nn1rhc.fit(X_train_scaled, y_train)\n",
    "    \n",
    "    test_pred_rhc = nn1rhc.predict(X_test_scaled)\n",
    "    test_accuracy_rhc = accuracy_score(y_test, test_pred_rhc)\n",
    "    #_train_pred_mlp = nn1.predict(X_train_scaled)\n",
    "    #_train_accuracy_mlp = round(accuracy_score(y_train, y_train_pred_mlp),3)\n",
    "    \n",
    "    test_accuracy_rhc_list.append(test_accuracy_rhc)\n",
    "    #_train_accuracy_mlp_list.append(y_train_accuracy_mlp)"
   ]
  },
  {
   "cell_type": "code",
   "execution_count": 81,
   "metadata": {},
   "outputs": [],
   "source": [
    "test_accuracy_ga_list=[]\n",
    "#_train_accuracy_mlp_list=[]\n",
    "num_iteration_range=range(1,650,50)\n",
    "for max_iters in num_iteration_range:\n",
    "    nn1ga = mlrose.NeuralNetwork(hidden_nodes = [60], activation = 'relu', algorithm = 'genetic_alg', \n",
    "                           bias = True,  is_classifier = True, \n",
    "                           #learning_rate=0.1, \n",
    "                           early_stopping=True, \n",
    "                           #clip_max=5, \n",
    "                           max_attempts =1000, max_iters=max_iters)\n",
    "    nn1ga.fit(X_train_scaled, y_train)\n",
    "    \n",
    "    test_pred_ga = nn1ga.predict(X_test_scaled)\n",
    "    test_accuracy_ga = accuracy_score(y_test, test_pred_ga)\n",
    "    #_train_pred_mlp = nn1.predict(X_train_scaled)\n",
    "    #_train_accuracy_mlp = round(accuracy_score(y_train, y_train_pred_mlp),3)\n",
    "    \n",
    "    test_accuracy_ga_list.append(test_accuracy_ga)\n",
    "    #_train_accuracy_mlp_list.append(y_train_accuracy_mlp)"
   ]
  },
  {
   "cell_type": "code",
   "execution_count": 82,
   "metadata": {
    "collapsed": true
   },
   "outputs": [],
   "source": [
    "test_accuracy_sa_list=[]\n",
    "#_train_accuracy_mlp_list=[]\n",
    "num_iteration_range=range(1,650,50)\n",
    "for max_iters in num_iteration_range:\n",
    "    nn1sa = mlrose.NeuralNetwork(hidden_nodes = [60], activation = 'relu', algorithm = 'simulated_annealing', \n",
    "                           bias = True,  is_classifier = True, \n",
    "                           #learning_rate=0.1, \n",
    "                           early_stopping=True, \n",
    "                           #clip_max=5, \n",
    "                           max_attempts =1000, max_iters=max_iters)\n",
    "    nn1sa.fit(X_train_scaled, y_train)\n",
    "    \n",
    "    test_pred_sa = nn1sa.predict(X_test_scaled)\n",
    "    test_accuracy_sa = accuracy_score(y_test, test_pred_sa)\n",
    "    #_train_pred_mlp = nn1.predict(X_train_scaled)\n",
    "    #_train_accuracy_mlp = round(accuracy_score(y_train, y_train_pred_mlp),3)\n",
    "    \n",
    "    test_accuracy_sa_list.append(test_accuracy_sa)\n",
    "    #_train_accuracy_mlp_list.append(y_train_accuracy_mlp)"
   ]
  },
  {
   "cell_type": "code",
   "execution_count": 83,
   "metadata": {},
   "outputs": [],
   "source": [
    "test_accuracy_mlp_list=[]\n",
    "#_train_accuracy_mlp_list=[]\n",
    "num_iteration_range=range(1,650,50)\n",
    "for max_iter in num_iteration_range:\n",
    "    nn1curve = MLPClassifier(max_iter=max_iter,activation='relu',\n",
    "                    hidden_layer_sizes=[60],random_state=1)\n",
    "    nn1curve.fit(X_train_scaled, y_train)\n",
    "    \n",
    "    test_pred_mlp = nn1curve.predict(X_test_scaled)\n",
    "    test_accuracy_mlp = accuracy_score(y_test, test_pred_mlp)\n",
    "    #_train_pred_mlp = nn1.predict(X_train_scaled)\n",
    "    #_train_accuracy_mlp = round(accuracy_score(y_train, y_train_pred_mlp),3)\n",
    "    \n",
    "    test_accuracy_mlp_list.append(test_accuracy_mlp)\n",
    "    #_train_accuracy_mlp_list.append(y_train_accuracy_mlp)\n",
    "    "
   ]
  },
  {
   "cell_type": "code",
   "execution_count": 84,
   "metadata": {},
   "outputs": [
    {
     "data": {
      "text/plain": [
       "<matplotlib.figure.Figure at 0x17ab5a90>"
      ]
     },
     "metadata": {},
     "output_type": "display_data"
    },
    {
     "data": {
      "image/png": "[encoded data removed]",
      "text/plain": [
       "<matplotlib.figure.Figure at 0x182306a0>"
      ]
     },
     "metadata": {},
     "output_type": "display_data"
    }
   ],
   "source": [
    "plt.figure(figsize=(7,5))\n",
    "#plt.plot(num_estimators_range,y_train_accuracy_mlp_list,color='red', marker='o',markersize=5 )\n",
    "plt.plot(num_iteration_range,test_accuracy_mlp_list,color='blue', marker='s',markersize=5 )\n",
    "plt.plot(num_iteration_range,test_accuracy_rhc_list,color='red', marker='s',markersize=5 )\n",
    "plt.plot(num_iteration_range,test_accuracy_ga_list,color='green', marker='s',markersize=5 )\n",
    "plt.plot(num_iteration_range,test_accuracy_sa_list,color='purple', marker='s',markersize=5 )\n",
    "\n",
    "plt.grid()\n",
    "plt.legend(loc='lower right')\n",
    "plt.xlabel('iterations')\n",
    "plt.ylabel('accuracy')\n",
    "plt.show()"
   ]
  },
  {
   "cell_type": "code",
   "execution_count": 36,
   "metadata": {
    "collapsed": true
   },
   "outputs": [],
   "source": [
    "# Initialize neural network object and fit object\n",
    "import mlrose\n",
    "rhc_param_grid={'max_iters':[600,2000,3000,4000,5000,6000,7000,8000,9000,10000], \n",
    "                #'learning_rate': [0.1,0.001]\n",
    "               }\n",
    "nn_rhc = mlrose.NeuralNetwork(hidden_nodes = [60], activation = 'relu', algorithm = 'random_hill_climb', \n",
    "                           bias = True,  is_classifier = True,  \n",
    "                              #learning_rate=0.0001,\n",
    "                              early_stopping=True, \n",
    "                           #clip_max=5, \n",
    "                           max_attempts =3000)\n"
   ]
  },
  {
   "cell_type": "code",
   "execution_count": 37,
   "metadata": {},
   "outputs": [
    {
     "data": {
      "text/plain": [
       "NeuralNetwork(bias=True, clip_max=10000000000.0, early_stopping=True,\n",
       "       hidden_nodes=[60], is_classifier=True, lr=0.1, max_iters=100,\n",
       "       mutation_prob=0.1, pop_size=200,\n",
       "       schedule=<mlrose.decay.GeomDecay object at 0x00000000144A3470>)"
      ]
     },
     "execution_count": 37,
     "metadata": {},
     "output_type": "execute_result"
    }
   ],
   "source": [
    "nn_rhc.set_params()"
   ]
  },
  {
   "cell_type": "code",
   "execution_count": 38,
   "metadata": {},
   "outputs": [
    {
     "name": "stdout",
     "output_type": "stream",
     "text": [
      "Fitting 5 folds for each of 10 candidates, totalling 50 fits\n"
     ]
    },
    {
     "name": "stderr",
     "output_type": "stream",
     "text": [
      "[Parallel(n_jobs=-1)]: Using backend LokyBackend with 4 concurrent workers.\n",
      "[Parallel(n_jobs=-1)]: Done  42 tasks      | elapsed:  1.9min\n",
      "[Parallel(n_jobs=-1)]: Done  50 out of  50 | elapsed:  2.3min finished\n"
     ]
    },
    {
     "name": "stdout",
     "output_type": "stream",
     "text": [
      "process time total:146.95 seconds\n"
     ]
    }
   ],
   "source": [
    "import time\n",
    "start_time=time.time()\n",
    "\n",
    "gsRHC=GridSearchCV(nn_rhc,param_grid=rhc_param_grid, cv=5, scoring='accuracy',n_jobs=-1,verbose=1)\n",
    "gsRHC.fit(X_train_scaled, y_train)\n",
    "\n",
    "RHC_best = gsRHC.best_estimator_\n",
    "\n",
    "print(\"process time total:{:.2f} seconds\".format(time.time()-start_time))\n"
   ]
  },
  {
   "cell_type": "code",
   "execution_count": 35,
   "metadata": {},
   "outputs": [
    {
     "name": "stdout",
     "output_type": "stream",
     "text": [
      "best score: 0.7340049006261912\n",
      "best param: {'max_iters': 6000}\n"
     ]
    }
   ],
   "source": [
    "print(\"best score: %s\" % gsRHC.best_score_)\n",
    "print(\"best param: %s\" % gsRHC.best_params_)"
   ]
  },
  {
   "cell_type": "code",
   "execution_count": 50,
   "metadata": {},
   "outputs": [
    {
     "name": "stdout",
     "output_type": "stream",
     "text": [
      "iterations:   1: test accuracy: 0.786\n",
      "iterations: 1001: test accuracy: 0.785\n",
      "iterations: 2001: test accuracy: 0.787\n",
      "iterations: 3001: test accuracy: 0.799\n",
      "iterations: 4001: test accuracy: 0.801\n",
      "iterations: 5001: test accuracy: 0.797\n",
      "iterations: 6001: test accuracy: 0.802\n",
      "iterations: 7001: test accuracy: 0.798\n",
      "iterations: 8001: test accuracy: 0.804\n",
      "iterations: 9001: test accuracy: 0.800\n"
     ]
    }
   ],
   "source": [
    "test_accuracy_rhc_iterlist=[]\n",
    "num_iteration_range=range(1,10000,1000)\n",
    "for max_iters in num_iteration_range:\n",
    "    nn2iter = mlrose.NeuralNetwork(hidden_nodes = [60], activation = 'relu', algorithm = 'random_hill_climb', \n",
    "                           bias = True,  is_classifier = True, \n",
    "                           #learning_rate=0.1, \n",
    "                           early_stopping=True, \n",
    "                           #clip_max=5, \n",
    "                           max_attempts =10000, max_iters=max_iters)\n",
    "    nn2iter.fit(X_train_scaled, y_train)\n",
    "    \n",
    "    test_pred_rhc = nn2iter.predict(X_test_scaled)\n",
    "    test_accuracy_rhc = accuracy_score(y_test, test_pred_rhc)\n",
    "    #_train_pred_mlp = nn1.predict(X_train_scaled)\n",
    "    #_train_accuracy_mlp = round(accuracy_score(y_train, y_train_pred_mlp),3)\n",
    "    \n",
    "    test_accuracy_rhc_iterlist.append(test_accuracy_rhc)\n",
    "    #_train_accuracy_mlp_list.append(y_train_accuracy_mlp)\n",
    "    \n",
    "    print ('iterations: %3d: test accuracy: %.3f' % (max_iters,test_accuracy_rhc))"
   ]
  },
  {
   "cell_type": "code",
   "execution_count": 51,
   "metadata": {},
   "outputs": [
    {
     "data": {
      "image/png": "[encoded data removed]",
      "text/plain": [
       "<matplotlib.figure.Figure at 0x181b0320>"
      ]
     },
     "metadata": {},
     "output_type": "display_data"
    }
   ],
   "source": [
    "plt.figure(figsize=(7,5))\n",
    "\n",
    "plt.plot(num_iteration_range,test_accuracy_rhc_iterlist,color='red', marker='s',markersize=5 )\n",
    "\n",
    "plt.grid()\n",
    "plt.legend(loc='lower right')\n",
    "plt.xlabel('iterations')\n",
    "plt.ylabel('accuracy')\n",
    "plt.show()"
   ]
  },
  {
   "cell_type": "code",
   "execution_count": 52,
   "metadata": {},
   "outputs": [
    {
     "name": "stdout",
     "output_type": "stream",
     "text": [
      "Model Training Time - RHC (s):   62.55321\n"
     ]
    }
   ],
   "source": [
    "#RHC:Re-run NN with the best parameters reported in Grid Search\n",
    "\n",
    "nn2 = mlrose.NeuralNetwork(hidden_nodes = [60], activation = 'relu', algorithm = 'random_hill_climb', \n",
    "                           bias = True,  is_classifier = True, \n",
    "                           #learning_rate=0.1, \n",
    "                           early_stopping=True, \n",
    "                           #clip_max=5, \n",
    "                           max_attempts =10000, max_iters=6000)\n",
    "\n",
    "# Training\n",
    "start_time = timeit.default_timer()\n",
    "nn2.fit(X_train_scaled, y_train)\n",
    "end_time = timeit.default_timer()\n",
    "training_time = end_time - start_time\n",
    "print(\"Model Training Time - RHC (s):   \"+\"{:.5f}\".format(training_time))"
   ]
  },
  {
   "cell_type": "code",
   "execution_count": 53,
   "metadata": {},
   "outputs": [
    {
     "name": "stdout",
     "output_type": "stream",
     "text": [
      "Accuracy score (test set, pruned): 0.8016326530612244\n",
      "Accuracy score (train set, pruned): 0.808\n"
     ]
    }
   ],
   "source": [
    "# Predict labels for test set and assess accuracy\n",
    "y_test_pred_rhc = nn2.predict(X_test_scaled)\n",
    "y_test_accuracy_rhc = accuracy_score(y_test, y_test_pred_rhc)\n",
    "print('Accuracy score (test set, pruned):', y_test_accuracy_rhc)\n",
    "\n",
    "# Predict labels for train set and assess accuracy\n",
    "y_train_pred_rhc = nn2.predict(X_train_scaled)\n",
    "y_train_accuracy_rhc = round(accuracy_score(y_train, y_train_pred_rhc),3)\n",
    "print('Accuracy score (train set, pruned):',y_train_accuracy_rhc)"
   ]
  },
  {
   "cell_type": "code",
   "execution_count": 54,
   "metadata": {
    "collapsed": true
   },
   "outputs": [],
   "source": [
    "import warnings\n",
    "warnings.filterwarnings(\"ignore\")"
   ]
  },
  {
   "cell_type": "code",
   "execution_count": 58,
   "metadata": {},
   "outputs": [
    {
     "data": {
      "text/plain": [
       "NeuralNetwork(bias=True, clip_max=10000000000.0, early_stopping=True,\n",
       "       hidden_nodes=[60], is_classifier=True, lr=0.1, max_iters=100,\n",
       "       mutation_prob=0.1, pop_size=200,\n",
       "       schedule=<mlrose.decay.GeomDecay object at 0x00000000144A3470>)"
      ]
     },
     "execution_count": 58,
     "metadata": {},
     "output_type": "execute_result"
    }
   ],
   "source": [
    "ga_param_grid={'max_iters':[2000,4000], 'pop_size': [50,100,200], 'mutation_prob':[0.1,0.01]}\n",
    "nn_ga = mlrose.NeuralNetwork(hidden_nodes = [60], activation = 'relu', algorithm = 'genetic_alg', \n",
    "                           bias = True,  is_classifier = True,  \n",
    "                              #learning_rate=0.0001,\n",
    "                              early_stopping=True, \n",
    "                           #clip_max=5, \n",
    "                           max_attempts =3000)\n",
    "nn_ga.set_params()\n"
   ]
  },
  {
   "cell_type": "code",
   "execution_count": 59,
   "metadata": {},
   "outputs": [
    {
     "name": "stdout",
     "output_type": "stream",
     "text": [
      "Fitting 5 folds for each of 12 candidates, totalling 60 fits\n"
     ]
    },
    {
     "name": "stderr",
     "output_type": "stream",
     "text": [
      "[Parallel(n_jobs=-1)]: Using backend LokyBackend with 4 concurrent workers.\n",
      "[Parallel(n_jobs=-1)]: Done  42 tasks      | elapsed:  1.8min\n",
      "[Parallel(n_jobs=-1)]: Done  60 out of  60 | elapsed:  2.4min finished\n"
     ]
    },
    {
     "name": "stdout",
     "output_type": "stream",
     "text": [
      "process time total:149.78 seconds\n"
     ]
    }
   ],
   "source": [
    "start_time=time.time()\n",
    "\n",
    "gsGA=GridSearchCV(nn_ga,param_grid=ga_param_grid, cv=5, scoring='accuracy',n_jobs=-1,verbose=1)\n",
    "gsGA.fit(X_train_scaled, y_train)\n",
    "\n",
    "GA_best = gsGA.best_estimator_\n",
    "\n",
    "print(\"process time total:{:.2f} seconds\".format(time.time()-start_time))\n"
   ]
  },
  {
   "cell_type": "code",
   "execution_count": 60,
   "metadata": {},
   "outputs": [
    {
     "name": "stdout",
     "output_type": "stream",
     "text": [
      "best score: 0.7644976858154098\n",
      "best param: {'max_iters': 4000, 'mutation_prob': 0.01, 'pop_size': 200}\n"
     ]
    }
   ],
   "source": [
    "print(\"best score: %s\" % gsGA.best_score_)\n",
    "print(\"best param: %s\" % gsGA.best_params_)"
   ]
  },
  {
   "cell_type": "code",
   "execution_count": 66,
   "metadata": {},
   "outputs": [
    {
     "name": "stdout",
     "output_type": "stream",
     "text": [
      "Model Training Time - GA (s):   1747.95819\n"
     ]
    }
   ],
   "source": [
    "#GA:Re-run NN with the best parameters reported in Grid Search\n",
    "\n",
    "nn3 = mlrose.NeuralNetwork(hidden_nodes = [60], activation = 'relu', algorithm = 'genetic_alg', mutation_prob=0.01,\n",
    "                           bias = True,  is_classifier = True, \n",
    "                           #learning_rate=0.1, \n",
    "                           early_stopping=True, \n",
    "                           #clip_max=5, \n",
    "                           pop_size=200,\n",
    "                           max_attempts =1000, max_iters=4000)\n",
    "\n",
    "# Training\n",
    "start_time = timeit.default_timer()\n",
    "nn3.fit(X_train_scaled, y_train)\n",
    "end_time = timeit.default_timer()\n",
    "training_time = end_time - start_time\n",
    "print(\"Model Training Time - GA (s):   \"+\"{:.5f}\".format(training_time))"
   ]
  },
  {
   "cell_type": "code",
   "execution_count": 68,
   "metadata": {},
   "outputs": [
    {
     "name": "stdout",
     "output_type": "stream",
     "text": [
      "Accuracy score (test set, pruned): 0.7836734693877551\n",
      "Accuracy score (train set, pruned): 0.799\n"
     ]
    }
   ],
   "source": [
    "# Predict labels for test set and assess accuracy\n",
    "y_test_pred_ga = nn3.predict(X_test_scaled)\n",
    "y_test_accuracy_ga = accuracy_score(y_test, y_test_pred_ga)\n",
    "print('Accuracy score (test set, pruned):', y_test_accuracy_ga)\n",
    "\n",
    "# Predict labels for train set and assess accuracy\n",
    "y_train_pred_ga = nn3.predict(X_train_scaled)\n",
    "y_train_accuracy_ga = round(accuracy_score(y_train, y_train_pred_ga),3)\n",
    "print('Accuracy score (train set, pruned):',y_train_accuracy_ga)"
   ]
  },
  {
   "cell_type": "code",
   "execution_count": null,
   "metadata": {
    "collapsed": true
   },
   "outputs": [],
   "source": [
    "test_accuracy_ga_iterlist=[]\n",
    "#train_accuracy_ga_iterlist=[]\n",
    "\n",
    "num_mutation_range=(0.01,0.1)\n",
    "for max_iters in num_iteration_range:\n",
    "    nn3muta = mlrose.NeuralNetwork(hidden_nodes = [60], activation = 'relu', algorithm = 'genetic_alg', mutation_prob=0.01,\n",
    "                           bias = True,  is_classifier = True, \n",
    "                           #learning_rate=0.1, \n",
    "                           early_stopping=True, \n",
    "                           #clip_max=5, \n",
    "                           pop_size=200,\n",
    "                           max_attempts =500, max_iters=1000)\n",
    "\n",
    "\n",
    "    nn3muta.fit(X_train_scaled, y_train)\n",
    "    \n",
    "    test_pred_ga = nn3muta.predict(X_test_scaled)\n",
    "    test_accuracy_ga = accuracy_score(y_test, test_pred_ga)\n",
    "    #train_pred_ga = nn3muta.predict(X_train_scaled)\n",
    "    #train_accuracy_ga = accuracy_score(y_train, y_train_pred_ga)\n",
    "    \n",
    "    test_accuracy_ga_iterlist.append(test_accuracy_ga)\n",
    "    #train_accuracy_ga_list.append(y_train_accuracy_ga)\n",
    "    \n",
    "    print ('mutation: %3d: test accuracy: %.3f' % (mutation_prob,test_accuracy_ga))"
   ]
  },
  {
   "cell_type": "code",
   "execution_count": null,
   "metadata": {},
   "outputs": [],
   "source": [
    "plt.figure(figsize=(7,5))\n",
    "\n",
    "plt.plot(num_iteration_range,test_accuracy_ga_iterlist,color='red', marker='s',markersize=5 )\n",
    "#plt.plot(num_iteration_range,train_accuracy_ga_iterlist,color='blue', marker='s',markersize=5 )\n",
    "\n",
    "plt.grid()\n",
    "plt.legend(loc='lower right')\n",
    "plt.xlabel('mutation probability')\n",
    "plt.ylabel('accuracy')\n",
    "plt.show()"
   ]
  },
  {
   "cell_type": "code",
   "execution_count": null,
   "metadata": {
    "collapsed": true
   },
   "outputs": [],
   "source": []
  },
  {
   "cell_type": "code",
   "execution_count": 69,
   "metadata": {},
   "outputs": [
    {
     "data": {
      "text/plain": [
       "NeuralNetwork(bias=True, clip_max=10000000000.0, early_stopping=True,\n",
       "       hidden_nodes=[80], is_classifier=True, lr=0.1, max_iters=100,\n",
       "       mutation_prob=0.1, pop_size=200,\n",
       "       schedule=<mlrose.decay.GeomDecay object at 0x00000000144A3470>)"
      ]
     },
     "execution_count": 69,
     "metadata": {},
     "output_type": "execute_result"
    }
   ],
   "source": [
    "sa_param_grid={'max_iters':[2000,3000,4000,5000,6000,8000], \n",
    "               #'learning_rate': [0.1,0.001]\n",
    "              }\n",
    "nn_sa = mlrose.NeuralNetwork(hidden_nodes = [80], activation = 'relu', algorithm = 'simulated_annealing', \n",
    "                           bias = True,  is_classifier = True,  \n",
    "                              #learning_rate=0.0001,\n",
    "                              early_stopping=True, \n",
    "                           #clip_max=5, \n",
    "                           max_attempts =3000)\n",
    "nn_sa.set_params()"
   ]
  },
  {
   "cell_type": "code",
   "execution_count": 70,
   "metadata": {},
   "outputs": [
    {
     "name": "stdout",
     "output_type": "stream",
     "text": [
      "Fitting 5 folds for each of 6 candidates, totalling 30 fits\n"
     ]
    },
    {
     "name": "stderr",
     "output_type": "stream",
     "text": [
      "[Parallel(n_jobs=-1)]: Using backend LokyBackend with 4 concurrent workers.\n",
      "[Parallel(n_jobs=-1)]: Done  30 out of  30 | elapsed:  1.8min finished\n"
     ]
    },
    {
     "name": "stdout",
     "output_type": "stream",
     "text": [
      "process time total:111.48 seconds\n"
     ]
    }
   ],
   "source": [
    "\n",
    "start_time=time.time()\n",
    "\n",
    "gsSA=GridSearchCV(nn_sa,param_grid=sa_param_grid, cv=5, scoring='accuracy',n_jobs=-1,verbose=1)\n",
    "gsSA.fit(X_train_scaled, y_train)\n",
    "\n",
    "SA_best = gsSA.best_estimator_\n",
    "\n",
    "print(\"process time total:{:.2f} seconds\".format(time.time()-start_time))\n"
   ]
  },
  {
   "cell_type": "code",
   "execution_count": 71,
   "metadata": {},
   "outputs": [
    {
     "name": "stdout",
     "output_type": "stream",
     "text": [
      "best score: 0.7802885924312551\n",
      "best param: {'max_iters': 2000}\n"
     ]
    }
   ],
   "source": [
    "print(\"best score: %s\" % gsSA.best_score_)\n",
    "print(\"best param: %s\" % gsSA.best_params_)"
   ]
  },
  {
   "cell_type": "code",
   "execution_count": 72,
   "metadata": {},
   "outputs": [
    {
     "name": "stdout",
     "output_type": "stream",
     "text": [
      "Model Training Time - GA (s):   45.03905\n"
     ]
    }
   ],
   "source": [
    "#SA:Re-run NN with the best parameters reported in Grid Search\n",
    "import timeit\n",
    "nn4 = mlrose.NeuralNetwork(hidden_nodes = [80], activation = 'relu', algorithm = 'simulated_annealing', \n",
    "                           bias = True,  is_classifier = True, \n",
    "                           #learning_rate=0.1, \n",
    "                           early_stopping=True, \n",
    "                           #clip_max=5, \n",
    "                           max_attempts =3000, max_iters=2000)\n",
    "\n",
    "# Training\n",
    "start_time = timeit.default_timer()\n",
    "nn4.fit(X_train_scaled, y_train)\n",
    "end_time = timeit.default_timer()\n",
    "training_time = end_time - start_time\n",
    "print(\"Model Training Time - GA (s):   \"+\"{:.5f}\".format(training_time))"
   ]
  },
  {
   "cell_type": "code",
   "execution_count": 73,
   "metadata": {},
   "outputs": [
    {
     "name": "stdout",
     "output_type": "stream",
     "text": [
      "Accuracy score (test set, pruned): 0.7755102040816326\n",
      "Accuracy score (train set, pruned): 0.77\n"
     ]
    }
   ],
   "source": [
    "# Predict labels for test set and assess accuracy\n",
    "y_test_pred_sa = nn4.predict(X_test_scaled)\n",
    "y_test_accuracy_sa = accuracy_score(y_test, y_test_pred_sa)\n",
    "print('Accuracy score (test set, pruned):', y_test_accuracy_sa)\n",
    "\n",
    "# Predict labels for train set and assess accuracy\n",
    "y_train_pred_sa = nn4.predict(X_train_scaled)\n",
    "y_train_accuracy_sa = round(accuracy_score(y_train, y_train_pred_sa),3)\n",
    "print('Accuracy score (train set, pruned):',y_train_accuracy_sa)"
   ]
  },
  {
   "cell_type": "code",
   "execution_count": 75,
   "metadata": {},
   "outputs": [
    {
     "name": "stdout",
     "output_type": "stream",
     "text": [
      "iterations:   1: test accuracy: 0.215\n",
      "iterations: 1001: test accuracy: 0.791\n",
      "iterations: 2001: test accuracy: 0.788\n",
      "iterations: 3001: test accuracy: 0.769\n",
      "iterations: 4001: test accuracy: 0.795\n",
      "iterations: 5001: test accuracy: 0.794\n",
      "iterations: 6001: test accuracy: 0.793\n",
      "iterations: 7001: test accuracy: 0.783\n",
      "iterations: 8001: test accuracy: 0.796\n",
      "iterations: 9001: test accuracy: 0.784\n"
     ]
    }
   ],
   "source": [
    "test_accuracy_sa_iterlist=[]\n",
    "num_iteration_range=range(1,10000,1000)\n",
    "for max_iters in num_iteration_range:\n",
    "    nn4iter = mlrose.NeuralNetwork(hidden_nodes = [60], activation = 'relu', algorithm = 'simulated_annealing', \n",
    "                           bias = True,  is_classifier = True, \n",
    "                           #learning_rate=0.1, \n",
    "                           early_stopping=True, \n",
    "                           #clip_max=5, \n",
    "                           max_attempts =3000, max_iters=max_iters)\n",
    "\n",
    "    nn4iter.fit(X_train_scaled, y_train)\n",
    "    \n",
    "    test_pred_sa = nn4iter.predict(X_test_scaled)\n",
    "    test_accuracy_sa = accuracy_score(y_test, test_pred_sa)\n",
    "    #_train_pred_mlp = nn1.predict(X_train_scaled)\n",
    "    #_train_accuracy_mlp = round(accuracy_score(y_train, y_train_pred_mlp),3)\n",
    "    \n",
    "    test_accuracy_sa_iterlist.append(test_accuracy_sa)\n",
    "    #_train_accuracy_mlp_list.append(y_train_accuracy_mlp)\n",
    "    \n",
    "    print ('iterations: %3d: test accuracy: %.3f' % (max_iters,test_accuracy_sa))"
   ]
  },
  {
   "cell_type": "code",
   "execution_count": 76,
   "metadata": {},
   "outputs": [
    {
     "data": {
      "image/png": "[encoded data removed]",
      "text/plain": [
       "<matplotlib.figure.Figure at 0x165697f0>"
      ]
     },
     "metadata": {},
     "output_type": "display_data"
    }
   ],
   "source": [
    "plt.figure(figsize=(7,5))\n",
    "\n",
    "plt.plot(num_iteration_range,test_accuracy_sa_iterlist,color='red', marker='s',markersize=5 )\n",
    "\n",
    "plt.grid()\n",
    "plt.legend(loc='lower right')\n",
    "plt.xlabel('iterations')\n",
    "plt.ylabel('accuracy')\n",
    "plt.show()"
   ]
  }
 ],
 "metadata": {
  "kernelspec": {
   "display_name": "Python 3",
   "language": "python",
   "name": "python3"
  },
  "language_info": {
   "codemirror_mode": {
    "name": "ipython",
    "version": 3
   },
   "file_extension": ".py",
   "mimetype": "text/x-python",
   "name": "python",
   "nbconvert_exporter": "python",
   "pygments_lexer": "ipython3",
   "version": "3.6.3"
  }
 },
 "nbformat": 4,
 "nbformat_minor": 2
}
